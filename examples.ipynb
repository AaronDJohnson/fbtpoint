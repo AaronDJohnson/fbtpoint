{
 "cells": [
  {
   "cell_type": "code",
   "execution_count": 1,
   "metadata": {},
   "outputs": [],
   "source": [
    "from geodesic_fp.geodesics import find_omega\n",
    "from swsh_fp.swsh import calc_swsh_eq"
   ]
  },
  {
   "cell_type": "code",
   "execution_count": 3,
   "metadata": {},
   "outputs": [],
   "source": [
    "aa = 0.998\n",
    "slr = 7\n",
    "ecc = 0.3\n",
    "x = 1\n",
    "\n",
    "kay = 0\n",
    "em = 2\n",
    "ell = 2\n",
    "en = 0\n",
    "\n",
    "omega = find_omega(en, em, kay, aa, slr, ecc, x)"
   ]
  },
  {
   "cell_type": "code",
   "execution_count": null,
   "metadata": {},
   "outputs": [],
   "source": [
    "fast_spheroidal_harmonics_eq()"
   ]
  }
 ],
 "metadata": {
  "kernelspec": {
   "display_name": "Python 3",
   "language": "python",
   "name": "python3"
  },
  "language_info": {
   "codemirror_mode": {
    "name": "ipython",
    "version": 3
   },
   "file_extension": ".py",
   "mimetype": "text/x-python",
   "name": "python",
   "nbconvert_exporter": "python",
   "pygments_lexer": "ipython3",
   "version": "3.7.7-final"
  }
 },
 "nbformat": 4,
 "nbformat_minor": 4
}